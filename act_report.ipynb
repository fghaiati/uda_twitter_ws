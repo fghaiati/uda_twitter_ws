{
 "cells": [
  {
   "cell_type": "markdown",
   "metadata": {
    "collapsed": true
   },
   "source": [
    "# WeRateDogs Data Analysis Project - Conclusions Report"
   ]
  },
  {
   "cell_type": "markdown",
   "metadata": {},
   "source": [
    "## Insight (1): \n",
    "The most favorited was a super supportive puppo was participated in the Toronto  #WomensMarch. https://t.co/nTz3FtorBc\n",
    ",its breed: Lakeland Terrier.\n",
    "<img src=\"https://pbs.twimg.com/media/C2tugXLXgAArJO4.jpg\" width=400 height=400>"
   ]
  },
  {
   "cell_type": "markdown",
   "metadata": {},
   "source": [
    "## Insight (2): \n",
    "The most retweeted was dogoo where it can stand in a pool. https://t.co/7wE9LTEXC4\n",
    ", its breed: Labrador Retriever. Also it was the second favorited.\n",
    "<img src=\"https://pbs.twimg.com/ext_tw_video_thumb/744234667679821824/pu/img/1GaWmtJtdqzZV7jy.jpg\" width=300 height=300>"
   ]
  },
  {
   "cell_type": "markdown",
   "metadata": {},
   "source": [
    "## Insight (3):\n",
    "There are 21 tweets with hightest Rating Ratio as 1.4\n",
    "<table><tr>\n",
    "<td><img src=\"https://pbs.twimg.com/media/DFrEyVuW0AAO3t9.jpg\" width=300 height=300></td>                                        \n",
    "<td><img src=\"https://pbs.twimg.com/media/DEYrIZwWsAA2Wo5.jpg\" width=300 height=300></td>                                        \n",
    "<td><img src=\"https://pbs.twimg.com/ext_tw_video_thumb/881535971568889856/pu/img/9bawiZ--8FKywTkz.jpg\" width=300 height=300></td>\n",
    "<td><img src=\"https://pbs.twimg.com/media/DC98vABUIAA97pz.jpg\" width=300 height=300></td>                                        \n",
    "<td><img src=\"https://pbs.twimg.com/media/DA7iHL5U0AA1OQo.jpg\" width=300 height=300></td>                                        \n",
    "<td><img src=\"https://pbs.twimg.com/media/C-If9ZwXoAAfDX2.jpg\" width=300 height=300></td>                                        \n",
    "<td><img src=\"https://pbs.twimg.com/media/C9px7jyVwAAnmwN.jpg\" width=300 height=300></td>                         </tr>\n",
    "<tr>    \n",
    "<td><img src=\"https://pbs.twimg.com/media/C61lFFiWoAAJdiL.jpg\" width=300 height=300></td>                                        \n",
    "<td><img src=\"https://pbs.twimg.com/ext_tw_video_thumb/832273373149413377/pu/img/qOqxM0b48fEarmq6.jpg\" width=300 height=300></td>\n",
    "<td><img src=\"https://pbs.twimg.com/media/C4uLLGuUoAAkIHm.jpg\" width=300 height=300></td>                                        \n",
    "<td><img src=\"https://pbs.twimg.com/media/C3_0yhCWEAETXj2.jpg\" width=300 height=300></td>                                        \n",
    "<td><img src=\"https://pbs.twimg.com/media/C38Asz1WEAAvzj3.jpg\" width=300 height=300></td>                                        \n",
    "<td><img src=\"https://pbs.twimg.com/media/C3TjvitXAAAI-QH.jpg\" width=300 height=300></td>                                        \n",
    "<td><img src=\"https://pbs.twimg.com/media/C2n5rUUXEAIXAtv.jpg\" width=300 height=300></td>                         </tr>\n",
    "<tr>    \n",
    "             \n",
    "<td><img src=\"https://pbs.twimg.com/ext_tw_video_thumb/821407155391725568/pu/img/AJC07gFJDDBuwNTD.jpg\" width=300 height=300></td>\n",
    "<td><img src=\"https://pbs.twimg.com/media/C2JXyARUAAE4gbL.jpg\" width=300 height=300></td>                                        \n",
    "<td><img src=\"https://pbs.twimg.com/media/C12whDoVEAALRxa.jpg\" width=300 height=300></td>                                        \n",
    "<td><img src=\"https://pbs.twimg.com/media/C0s-XtzWgAAp1W-.jpg\" width=300 height=300></td>                                        \n",
    "<td><img src=\"https://pbs.twimg.com/media/CzU_YVGUUAA3Xsd.jpg\" width=300 height=300></td>                                        \n",
    "<td><img src=\"https://pbs.twimg.com/media/Cs12ICuWAAECNRy.jpg\" width=300 height=300></td>                                        \n",
    "<td><img src=\"https://pbs.twimg.com/media/Cr7q1VxWIAA5Nm7.jpg\" width=300 height=300></td></tr></table>        "
   ]
  },
  {
   "cell_type": "markdown",
   "metadata": {},
   "source": [
    "## Insight (4): \n",
    "4 tweets were for pupper with related dogo together.\n",
    "<table>\n",
    "  <tr>\n",
    "    <td><img src=\"https://pbs.twimg.com/media/Czb4iFRXgAIUMiN.jpg\" height=300></td>\n",
    "    <td><img src=\"https://pbs.twimg.com/media/CotUFZEWcAA2Pku.jpg\" height=300></td>\n",
    "    <td><img src=\"https://pbs.twimg.com/media/CkjMx99UoAM2B1a.jpg\" height=300></td>\n",
    "    <td><img src=\"https://pbs.twimg.com/media/CiyHLocU4AI2pJu.jpg\" height=300></td>\n",
    "  </tr>\n",
    "</table>"
   ]
  },
  {
   "cell_type": "markdown",
   "metadata": {},
   "source": [
    "## Insight (5): \n",
    "Most Tweets posted from iphone devices"
   ]
  },
  {
   "cell_type": "markdown",
   "metadata": {},
   "source": [
    "## Insight (6) - Visualization: \n",
    "<img src=\"wrangle_plot.jpg\" width=600>\n",
    "\n",
    "pupper was most rated, retweeted, favorited than doggo. doggo was more rated, retweeted, favorited than puppo"
   ]
  }
 ],
 "metadata": {
  "kernelspec": {
   "display_name": "Python 3",
   "language": "python",
   "name": "python3"
  },
  "language_info": {
   "codemirror_mode": {
    "name": "ipython",
    "version": 3
   },
   "file_extension": ".py",
   "mimetype": "text/x-python",
   "name": "python",
   "nbconvert_exporter": "python",
   "pygments_lexer": "ipython3",
   "version": "3.6.3"
  }
 },
 "nbformat": 4,
 "nbformat_minor": 2
}
