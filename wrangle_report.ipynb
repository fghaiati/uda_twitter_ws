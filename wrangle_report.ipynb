{
 "cells": [
  {
   "cell_type": "markdown",
   "metadata": {
    "collapsed": true
   },
   "source": [
    "# WeRateDogs Data Analysis Project - Summary Report"
   ]
  },
  {
   "cell_type": "markdown",
   "metadata": {},
   "source": [
    "### An introduction to the problem:\n",
    "WeRateDogs is a Twitter account that rates people's dogs with a humorous comment about the dog. WeRateDogs has over 4 million followers and has received international media coverage. This Data Wrangle Project is about to gether data of WeRateDogs from 3 sources, assess data, clean it and come-out with insigths and visualization.  "
   ]
  },
  {
   "cell_type": "markdown",
   "metadata": {},
   "source": [
    "### My efforts: \n",
    "Following the Udacity Wrangling course steps and guidlines enabled me to strcture the project, gathered files from the different sources and assessed its content corelated data; could define quality and tidiness  issues; worked on cleaning data; then finally with this the beauty of python I could came-out with insights and visualization. Also, after first submission and received review from udacity I did some enhancments and corrections that more shaped the work. \n"
   ]
  },
  {
   "cell_type": "markdown",
   "metadata": {},
   "source": [
    "### Conclusion with the learning: \n",
    "I have enjoyed this learning journey with Udacity, really practiced new field and I think will build more on. Thanks :)\n",
    "\n"
   ]
  }
 ],
 "metadata": {
  "kernelspec": {
   "display_name": "Python 3",
   "language": "python",
   "name": "python3"
  },
  "language_info": {
   "codemirror_mode": {
    "name": "ipython",
    "version": 3
   },
   "file_extension": ".py",
   "mimetype": "text/x-python",
   "name": "python",
   "nbconvert_exporter": "python",
   "pygments_lexer": "ipython3",
   "version": "3.6.3"
  }
 },
 "nbformat": 4,
 "nbformat_minor": 2
}
